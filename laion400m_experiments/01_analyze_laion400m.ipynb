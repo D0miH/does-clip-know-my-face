{
 "cells": [
  {
   "cell_type": "code",
   "execution_count": null,
   "metadata": {},
   "outputs": [],
   "source": [
    "import pandas as pd\n",
    "import torch\n",
    "import numpy as np\n",
    "from torchvision.datasets import ImageFolder\n",
    "from torch.utils.data import ConcatDataset, DataLoader\n",
    "from IPython.display import display\n",
    "from clip_retrieval.clip_client import ClipClient, Modality\n",
    "from IPython.display import Image, display\n",
    "from base64 import b64decode\n",
    "import matplotlib.pyplot as plt\n",
    "from collections import defaultdict\n",
    "from tqdm.notebook import tqdm\n",
    "from joblib import Parallel, delayed\n",
    "from copy import deepcopy\n",
    "import json\n",
    "import open_clip\n",
    "from PIL import Image as PILImage\n",
    "import os\n",
    "import itertools\n",
    "import wandb\n",
    "\n",
    "os.chdir('/workspace')\n",
    "from rtpt.rtpt import setproctitle\n",
    "setproctitle('@Clip_Notebook')\n",
    "\n",
    "from facescrub_training.pl_models.resnet import ResNet50\n",
    "from datasets import FaceScrub"
   ]
  },
  {
   "attachments": {},
   "cell_type": "markdown",
   "metadata": {},
   "source": [
    "# Load the FaceScrub Dataset"
   ]
  },
  {
   "cell_type": "code",
   "execution_count": null,
   "metadata": {},
   "outputs": [],
   "source": [
    "facescrub = FaceScrub(group='all', train=False)"
   ]
  },
  {
   "attachments": {},
   "cell_type": "markdown",
   "metadata": {},
   "source": [
    "# Load the names of the German actors and actresses"
   ]
  },
  {
   "cell_type": "code",
   "execution_count": null,
   "metadata": {},
   "outputs": [],
   "source": [
    "european_actors_dataset = ImageFolder(root='./data/laion_european_celebs/actors/images')\n",
    "european_actresses_dataset = ImageFolder(root='./data/laion_european_celebs/actresses/images')"
   ]
  },
  {
   "attachments": {},
   "cell_type": "markdown",
   "metadata": {},
   "source": [
    "# Anaylze the dataset by counting the occurences of the names"
   ]
  },
  {
   "cell_type": "code",
   "execution_count": null,
   "metadata": {},
   "outputs": [],
   "source": [
    "df = pd.read_csv('./laion400m_experiments/names_found_in_laion400m_caption_search.csv', index_col=0)\n",
    "df"
   ]
  },
  {
   "cell_type": "code",
   "execution_count": null,
   "metadata": {},
   "outputs": [],
   "source": [
    "# get the counts of occurences for each person\n",
    "count_df = df.groupby('name').size().reset_index(name='count').sort_values('count')\n",
    "count_df['membership'] = 'member'\n",
    "count_df.reset_index(drop=True)"
   ]
  },
  {
   "cell_type": "code",
   "execution_count": null,
   "metadata": {},
   "outputs": [],
   "source": [
    "# add the persons that have a count of zero\n",
    "names_df = pd.DataFrame(facescrub.classes + european_actors_dataset.classes + european_actresses_dataset.classes)\n",
    "names_df = names_df[0].apply(lambda x: \" \".join(x.split(\"_\"))).reset_index(name='name').drop(columns='index')\n",
    "missing_names = names_df[~names_df['name'].isin(count_df['name'])].copy(deep=True)\n",
    "missing_names['count'] = 0\n",
    "missing_names['membership'] = 'non_member'\n",
    "count_df = pd.concat([count_df, missing_names]).sort_values('count').reset_index(drop=True)\n",
    "count_df"
   ]
  },
  {
   "cell_type": "code",
   "execution_count": null,
   "metadata": {},
   "outputs": [],
   "source": [
    "count_df.head(15)"
   ]
  },
  {
   "cell_type": "code",
   "execution_count": null,
   "metadata": {},
   "outputs": [],
   "source": [
    "count_df['bin'] = pd.cut(count_df['count'], bins=[0, 25, 50, 75, 100, 125, 150, 200, 225, 250, 275, 300, 1000_000], right=False)\n",
    "count_df = count_df.reset_index(drop=True)\n",
    "count_df"
   ]
  },
  {
   "cell_type": "code",
   "execution_count": null,
   "metadata": {},
   "outputs": [],
   "source": [
    "# get the count for each of the bins\n",
    "count_df.groupby('bin').transform('size').unique()"
   ]
  },
  {
   "cell_type": "code",
   "execution_count": null,
   "metadata": {},
   "outputs": [],
   "source": [
    "# save the dataframe to a csv file\n",
    "count_df.to_csv('./laion400m_experiments/laion_membership_occurence_count.csv')"
   ]
  },
  {
   "cell_type": "code",
   "execution_count": null,
   "metadata": {},
   "outputs": [],
   "source": []
  }
 ],
 "metadata": {
  "kernelspec": {
   "display_name": "Python 3",
   "language": "python",
   "name": "python3"
  },
  "language_info": {
   "codemirror_mode": {
    "name": "ipython",
    "version": 3
   },
   "file_extension": ".py",
   "mimetype": "text/x-python",
   "name": "python",
   "nbconvert_exporter": "python",
   "pygments_lexer": "ipython3",
   "version": "3.8.13"
  },
  "orig_nbformat": 4,
  "vscode": {
   "interpreter": {
    "hash": "31f2aee4e71d21fbe5cf8b01ff0e069b9275f58929596ceb00d14d90e3e16cd6"
   }
  }
 },
 "nbformat": 4,
 "nbformat_minor": 2
}
