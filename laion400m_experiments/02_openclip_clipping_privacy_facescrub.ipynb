{
 "cells": [
  {
   "cell_type": "code",
   "execution_count": 1,
   "metadata": {},
   "outputs": [],
   "source": [
    "import torch\n",
    "import open_clip\n",
    "from PIL import Image\n",
    "import numpy as np\n",
    "import cv2\n",
    "import matplotlib.pyplot as plt\n",
    "import pandas as pd\n",
    "import torchvision.transforms as T\n",
    "from torchvision.datasets import ImageFolder\n",
    "from torch.utils.data import DataLoader\n",
    "from torch.utils.data import ConcatDataset as PTConcatDataset\n",
    "from tqdm.notebook import tqdm\n",
    "from scipy.stats import entropy\n",
    "from IPython.display import display\n",
    "import seaborn as sns\n",
    "import os\n",
    "import bisect\n",
    "\n",
    "from rtpt.rtpt import setproctitle\n",
    "setproctitle('@Clipping_Privacy_LAION400M_Notebook')\n",
    "os.chdir('/workspace')\n",
    "\n",
    "from datasets import FaceScrub, SingleClassSubset\n",
    "\n",
    "%matplotlib inline\n",
    "\n",
    "pd.set_option('display.max_rows', 15)"
   ]
  },
  {
   "cell_type": "markdown",
   "metadata": {},
   "source": [
    "# Prepare the CLIP model"
   ]
  },
  {
   "cell_type": "code",
   "execution_count": 2,
   "metadata": {},
   "outputs": [
    {
     "name": "stderr",
     "output_type": "stream",
     "text": [
      "100%|███████████████████████████████████████| 605M/605M [00:38<00:00, 15.7MiB/s]\n",
      "100%|███████████████████████████████████████| 599M/599M [00:58<00:00, 10.2MiB/s]\n",
      "100%|█████████████████████████████████████| 1.71G/1.71G [02:16<00:00, 12.5MiB/s]\n"
     ]
    }
   ],
   "source": [
    "# init clip\n",
    "device = \"cuda\" if torch.cuda.is_available() else \"cpu\"\n",
    "MODEL_NAMES = ['ViT-B-32', 'ViT-B-16', 'ViT-L-14']\n",
    "models = {}\n",
    "preprocessings = {}\n",
    "for model_name in MODEL_NAMES:\n",
    "    model, _, preprocess = open_clip.create_model_and_transforms(model_name, pretrained='laion400m_e32')\n",
    "    preprocessings[model_name] = preprocess\n",
    "    model = model.eval()\n",
    "    models[model_name] = model"
   ]
  },
  {
   "cell_type": "markdown",
   "metadata": {},
   "source": [
    "# Load the Members and Non-Members"
   ]
  },
  {
   "cell_type": "code",
   "execution_count": 3,
   "metadata": {},
   "outputs": [
    {
     "name": "stdout",
     "output_type": "stream",
     "text": [
      "Non-Members\n"
     ]
    },
    {
     "data": {
      "text/html": [
       "<div>\n",
       "<style scoped>\n",
       "    .dataframe tbody tr th:only-of-type {\n",
       "        vertical-align: middle;\n",
       "    }\n",
       "\n",
       "    .dataframe tbody tr th {\n",
       "        vertical-align: top;\n",
       "    }\n",
       "\n",
       "    .dataframe thead th {\n",
       "        text-align: right;\n",
       "    }\n",
       "</style>\n",
       "<table border=\"1\" class=\"dataframe\">\n",
       "  <thead>\n",
       "    <tr style=\"text-align: right;\">\n",
       "      <th></th>\n",
       "      <th>class_name</th>\n",
       "      <th>name</th>\n",
       "    </tr>\n",
       "  </thead>\n",
       "  <tbody>\n",
       "    <tr>\n",
       "      <th>0</th>\n",
       "      <td>Jenilee_Harrison</td>\n",
       "      <td>Jenilee Harrison</td>\n",
       "    </tr>\n",
       "    <tr>\n",
       "      <th>1</th>\n",
       "      <td>Jessica_Leccia</td>\n",
       "      <td>Jessica Leccia</td>\n",
       "    </tr>\n",
       "    <tr>\n",
       "      <th>2</th>\n",
       "      <td>Mackenzie_Aladjem</td>\n",
       "      <td>Mackenzie Aladjem</td>\n",
       "    </tr>\n",
       "    <tr>\n",
       "      <th>3</th>\n",
       "      <td>Annette_Frier</td>\n",
       "      <td>Annette Frier</td>\n",
       "    </tr>\n",
       "    <tr>\n",
       "      <th>4</th>\n",
       "      <td>Barbara_Schöneberger</td>\n",
       "      <td>Barbara Schöneberger</td>\n",
       "    </tr>\n",
       "    <tr>\n",
       "      <th>...</th>\n",
       "      <td>...</td>\n",
       "      <td>...</td>\n",
       "    </tr>\n",
       "    <tr>\n",
       "      <th>13</th>\n",
       "      <td>Kai_Pflaume</td>\n",
       "      <td>Kai Pflaume</td>\n",
       "    </tr>\n",
       "    <tr>\n",
       "      <th>14</th>\n",
       "      <td>Max_Giermann</td>\n",
       "      <td>Max Giermann</td>\n",
       "    </tr>\n",
       "    <tr>\n",
       "      <th>15</th>\n",
       "      <td>Michael_Kessler</td>\n",
       "      <td>Michael Kessler</td>\n",
       "    </tr>\n",
       "    <tr>\n",
       "      <th>16</th>\n",
       "      <td>Sabine_Vitua</td>\n",
       "      <td>Sabine Vitua</td>\n",
       "    </tr>\n",
       "    <tr>\n",
       "      <th>17</th>\n",
       "      <td>Sonsee_Neu</td>\n",
       "      <td>Sonsee Neu</td>\n",
       "    </tr>\n",
       "  </tbody>\n",
       "</table>\n",
       "<p>18 rows × 2 columns</p>\n",
       "</div>"
      ],
      "text/plain": [
       "              class_name                  name\n",
       "0       Jenilee_Harrison      Jenilee Harrison\n",
       "1         Jessica_Leccia        Jessica Leccia\n",
       "2      Mackenzie_Aladjem     Mackenzie Aladjem\n",
       "3          Annette_Frier         Annette Frier\n",
       "4   Barbara_Schöneberger  Barbara Schöneberger\n",
       "..                   ...                   ...\n",
       "13           Kai_Pflaume           Kai Pflaume\n",
       "14          Max_Giermann          Max Giermann\n",
       "15       Michael_Kessler       Michael Kessler\n",
       "16          Sabine_Vitua          Sabine Vitua\n",
       "17            Sonsee_Neu            Sonsee Neu\n",
       "\n",
       "[18 rows x 2 columns]"
      ]
     },
     "metadata": {},
     "output_type": "display_data"
    },
    {
     "data": {
      "text/html": [
       "<div>\n",
       "<style scoped>\n",
       "    .dataframe tbody tr th:only-of-type {\n",
       "        vertical-align: middle;\n",
       "    }\n",
       "\n",
       "    .dataframe tbody tr th {\n",
       "        vertical-align: top;\n",
       "    }\n",
       "\n",
       "    .dataframe thead th {\n",
       "        text-align: right;\n",
       "    }\n",
       "</style>\n",
       "<table border=\"1\" class=\"dataframe\">\n",
       "  <thead>\n",
       "    <tr style=\"text-align: right;\">\n",
       "      <th></th>\n",
       "      <th>class_name</th>\n",
       "      <th>name</th>\n",
       "    </tr>\n",
       "  </thead>\n",
       "  <tbody>\n",
       "    <tr>\n",
       "      <th>0</th>\n",
       "      <td>Aaron_Eckhart</td>\n",
       "      <td>Aaron Eckhart</td>\n",
       "    </tr>\n",
       "    <tr>\n",
       "      <th>1</th>\n",
       "      <td>Adam_Brody</td>\n",
       "      <td>Adam Brody</td>\n",
       "    </tr>\n",
       "    <tr>\n",
       "      <th>2</th>\n",
       "      <td>Adam_Sandler</td>\n",
       "      <td>Adam Sandler</td>\n",
       "    </tr>\n",
       "    <tr>\n",
       "      <th>3</th>\n",
       "      <td>Adrien_Brody</td>\n",
       "      <td>Adrien Brody</td>\n",
       "    </tr>\n",
       "    <tr>\n",
       "      <th>4</th>\n",
       "      <td>Adrienne_Barbeau</td>\n",
       "      <td>Adrienne Barbeau</td>\n",
       "    </tr>\n",
       "    <tr>\n",
       "      <th>...</th>\n",
       "      <td>...</td>\n",
       "      <td>...</td>\n",
       "    </tr>\n",
       "    <tr>\n",
       "      <th>500</th>\n",
       "      <td>Wendie_Malick</td>\n",
       "      <td>Wendie Malick</td>\n",
       "    </tr>\n",
       "    <tr>\n",
       "      <th>501</th>\n",
       "      <td>Woody_Allen</td>\n",
       "      <td>Woody Allen</td>\n",
       "    </tr>\n",
       "    <tr>\n",
       "      <th>502</th>\n",
       "      <td>Yasmine_Bleeth</td>\n",
       "      <td>Yasmine Bleeth</td>\n",
       "    </tr>\n",
       "    <tr>\n",
       "      <th>503</th>\n",
       "      <td>Zooey_Deschanel</td>\n",
       "      <td>Zooey Deschanel</td>\n",
       "    </tr>\n",
       "    <tr>\n",
       "      <th>504</th>\n",
       "      <td>Alice_Dwyer</td>\n",
       "      <td>Alice Dwyer</td>\n",
       "    </tr>\n",
       "  </tbody>\n",
       "</table>\n",
       "<p>505 rows × 2 columns</p>\n",
       "</div>"
      ],
      "text/plain": [
       "           class_name              name\n",
       "0       Aaron_Eckhart     Aaron Eckhart\n",
       "1          Adam_Brody        Adam Brody\n",
       "2        Adam_Sandler      Adam Sandler\n",
       "3        Adrien_Brody      Adrien Brody\n",
       "4    Adrienne_Barbeau  Adrienne Barbeau\n",
       "..                ...               ...\n",
       "500     Wendie_Malick     Wendie Malick\n",
       "501       Woody_Allen       Woody Allen\n",
       "502    Yasmine_Bleeth    Yasmine Bleeth\n",
       "503   Zooey_Deschanel   Zooey Deschanel\n",
       "504       Alice_Dwyer       Alice Dwyer\n",
       "\n",
       "[505 rows x 2 columns]"
      ]
     },
     "metadata": {},
     "output_type": "display_data"
    }
   ],
   "source": [
    "laion_non_members = pd.read_csv('./laion400m_experiments/laion400m_non_members.csv', index_col=0).reset_index(drop=True).drop(['False', 'True'], axis='columns')\n",
    "\n",
    "laion_non_members['name'] = laion_non_members['class_name'].apply(lambda x: x.replace(\"_\", \" \"))\n",
    "print('Non-Members')\n",
    "display(laion_non_members)\n",
    "\n",
    "laion_members = pd.read_csv('./laion400m_experiments/laion400m_members.csv', index_col=0).reset_index(drop=True).drop(['False', 'True'], axis='columns')\n",
    "laion_members['name'] = laion_members['class_name'].apply(lambda x: x.replace(\"_\", \" \"))\n",
    "display(laion_members)"
   ]
  },
  {
   "cell_type": "markdown",
   "metadata": {},
   "source": [
    "# Define the FaceScrub Dataset Class"
   ]
  },
  {
   "cell_type": "code",
   "execution_count": 4,
   "metadata": {},
   "outputs": [],
   "source": [
    "class ConcatDataset(PTConcatDataset):\n",
    "    @property\n",
    "    def classes(self):\n",
    "        classes = []\n",
    "        for dataset in self.datasets:\n",
    "            classes.extend(dataset.classes)\n",
    "\n",
    "        return classes\n",
    "\n",
    "    @property\n",
    "    def targets(self):\n",
    "        targets = []\n",
    "        for i, dataset in enumerate(self.datasets):\n",
    "            max_target = sum([len(self.datasets[i].classes) for i in range(0, i)])\n",
    "            targets.extend((np.array(dataset.targets) + max_target).tolist())\n",
    "        \n",
    "        return targets\n",
    "\n",
    "    def __getitem__(self, idx):\n",
    "        if idx < 0:\n",
    "            if -idx > len(self):\n",
    "                raise ValueError(\"absolute value of index should not exceed dataset length\")\n",
    "            idx = len(self) + idx\n",
    "        dataset_idx = bisect.bisect_right(self.cumulative_sizes, idx)\n",
    "        if dataset_idx == 0:\n",
    "            sample_idx = idx\n",
    "        else:\n",
    "            sample_idx = idx - self.cumulative_sizes[dataset_idx - 1]\n",
    "\n",
    "        x, y = self.datasets[dataset_idx][sample_idx]\n",
    "\n",
    "        max_target = sum([len(self.datasets[i].classes) for i in range(0, dataset_idx)])\n",
    "\n",
    "        return x, y + max_target"
   ]
  },
  {
   "cell_type": "code",
   "execution_count": 5,
   "metadata": {},
   "outputs": [],
   "source": [
    "facescrub_datasets = {model_name: FaceScrub(root='./data/facescrub', group='all', train=True, cropped=False, transform=preprocess) for model_name in MODEL_NAMES}\n",
    "laion_german_non_members_actors = {model_name: ImageFolder('./data/laion_german_non_members/actors/images', transform=preprocess) for model_name in MODEL_NAMES}\n",
    "laion_german_non_members_actresses = {model_name: ImageFolder('./data/laion_german_non_members/actresses/images', transform=preprocess) for model_name in MODEL_NAMES}"
   ]
  },
  {
   "cell_type": "code",
   "execution_count": 6,
   "metadata": {},
   "outputs": [],
   "source": [
    "concat_datasets = {model_name: ConcatDataset([facescrub_datasets[model_name], laion_german_non_members_actors[model_name], laion_german_non_members_actresses[model_name]]) for model_name in MODEL_NAMES}"
   ]
  },
  {
   "cell_type": "code",
   "execution_count": 7,
   "metadata": {},
   "outputs": [
    {
     "name": "stdout",
     "output_type": "stream",
     "text": [
      "---------- ViT-B-32 ----------\n",
      "Dataset size: 38204\n",
      "First Few Classes: ['Aaron_Eckhart', 'Adam_Brody', 'Adam_McKay', 'Adam_Sandler', 'Adrien_Brody', 'Al_Pacino', 'Alan_Alda', 'Alan_Arkin', 'Alan_Rickman', 'Alec_Baldwin']\n",
      "Last Few Classes: ['Max_Giermann', 'Michael_Kessler', 'Alice_Dwyer', 'Annette_Frier', 'Barbara_Schöneberger', 'Bettina_Lamprecht', 'Carolin_Kebekus', 'Friederike_Linke', 'Sabine_Vitua', 'Sonsee_Neu']\n",
      "Total Number of Classes: 546\n",
      "---------- ViT-B-16 ----------\n",
      "Dataset size: 38204\n",
      "First Few Classes: ['Aaron_Eckhart', 'Adam_Brody', 'Adam_McKay', 'Adam_Sandler', 'Adrien_Brody', 'Al_Pacino', 'Alan_Alda', 'Alan_Arkin', 'Alan_Rickman', 'Alec_Baldwin']\n",
      "Last Few Classes: ['Max_Giermann', 'Michael_Kessler', 'Alice_Dwyer', 'Annette_Frier', 'Barbara_Schöneberger', 'Bettina_Lamprecht', 'Carolin_Kebekus', 'Friederike_Linke', 'Sabine_Vitua', 'Sonsee_Neu']\n",
      "Total Number of Classes: 546\n",
      "---------- ViT-L-14 ----------\n",
      "Dataset size: 38204\n",
      "First Few Classes: ['Aaron_Eckhart', 'Adam_Brody', 'Adam_McKay', 'Adam_Sandler', 'Adrien_Brody', 'Al_Pacino', 'Alan_Alda', 'Alan_Arkin', 'Alan_Rickman', 'Alec_Baldwin']\n",
      "Last Few Classes: ['Max_Giermann', 'Michael_Kessler', 'Alice_Dwyer', 'Annette_Frier', 'Barbara_Schöneberger', 'Bettina_Lamprecht', 'Carolin_Kebekus', 'Friederike_Linke', 'Sabine_Vitua', 'Sonsee_Neu']\n",
      "Total Number of Classes: 546\n"
     ]
    }
   ],
   "source": [
    "for model_name in MODEL_NAMES:\n",
    "    print(f'---------- {model_name} ----------')\n",
    "    print(f'Dataset size: {len(concat_datasets[model_name])}')\n",
    "    print(f'First Few Classes: {concat_datasets[model_name].classes[:10]}')\n",
    "    print(f'Last Few Classes: {concat_datasets[model_name].classes[-10:]}')\n",
    "    print(f'Total Number of Classes: {len(concat_datasets[model_name].classes)}')"
   ]
  },
  {
   "cell_type": "code",
   "execution_count": 8,
   "metadata": {},
   "outputs": [],
   "source": [
    "dataset_class_subset_per_model = {}\n",
    "for model_name in MODEL_NAMES:\n",
    "    dataset_class_subsets = []\n",
    "    for class_idx in range(len(concat_datasets[model_name].classes)):\n",
    "        dataset_class_subsets.append(SingleClassSubset(concat_datasets[model_name], class_idx))\n",
    "    dataset_class_subset_per_model[model_name] = dataset_class_subsets"
   ]
  },
  {
   "cell_type": "code",
   "execution_count": 9,
   "metadata": {},
   "outputs": [
    {
     "name": "stderr",
     "output_type": "stream",
     "text": [
      "WARNING:matplotlib.image:Clipping input data to the valid range for imshow with RGB data ([0..1] for floats or [0..255] for integers).\n"
     ]
    },
    {
     "data": {
      "image/png": "[encoded data removed]",
      "text/plain": [
       "<Figure size 432x288 with 1 Axes>"
      ]
     },
     "metadata": {
      "needs_background": "light"
     },
     "output_type": "display_data"
    },
    {
     "name": "stderr",
     "output_type": "stream",
     "text": [
      "WARNING:matplotlib.image:Clipping input data to the valid range for imshow with RGB data ([0..1] for floats or [0..255] for integers).\n"
     ]
    },
    {
     "data": {
      "image/png": "[encoded data removed]",
      "text/plain": [
       "<Figure size 432x288 with 1 Axes>"
      ]
     },
     "metadata": {
      "needs_background": "light"
     },
     "output_type": "display_data"
    }
   ],
   "source": [
    "# visualize the first and last preprocessed image of the first class\n",
    "plt.imshow(dataset_class_subset_per_model[MODEL_NAMES[0]][0][0][0].permute(1,2,0).numpy())\n",
    "plt.show()\n",
    "plt.imshow(dataset_class_subset_per_model[MODEL_NAMES[0]][-1][0][0].permute(1,2,0).numpy())\n",
    "plt.show()"
   ]
  },
  {
   "cell_type": "markdown",
   "metadata": {},
   "source": [
    "# Run the Model for Test Purposes on the first Actor"
   ]
  },
  {
   "cell_type": "code",
   "execution_count": 10,
   "metadata": {},
   "outputs": [],
   "source": [
    "# get the context vector of the possible labels\n",
    "split_class_names = {model_name: [x.replace(\"_\", \" \") for x in concat_datasets[model_name].classes] for model_name in MODEL_NAMES}\n",
    "label_context_vecs = {model_name: open_clip.tokenize(split_class_names[model_name]) for model_name in MODEL_NAMES}"
   ]
  },
  {
   "cell_type": "code",
   "execution_count": 11,
   "metadata": {},
   "outputs": [
    {
     "data": {
      "text/plain": [
       "['Wanda De Jesus',\n",
       " 'Wendie Malick',\n",
       " 'Yasmine Bleeth',\n",
       " 'Zooey Deschanel',\n",
       " 'Bastian Pastewka',\n",
       " 'Bernhard Hoëcker',\n",
       " 'Guido Cantz',\n",
       " 'Johannes B. Kerner',\n",
       " 'Jörg Pilawa',\n",
       " 'Kai Pflaume',\n",
       " 'Max Giermann',\n",
       " 'Michael Kessler',\n",
       " 'Alice Dwyer',\n",
       " 'Annette Frier',\n",
       " 'Barbara Schöneberger',\n",
       " 'Bettina Lamprecht',\n",
       " 'Carolin Kebekus',\n",
       " 'Friederike Linke',\n",
       " 'Sabine Vitua',\n",
       " 'Sonsee Neu']"
      ]
     },
     "execution_count": 11,
     "metadata": {},
     "output_type": "execute_result"
    }
   ],
   "source": [
    "split_class_names[MODEL_NAMES[0]][-20:]"
   ]
  },
  {
   "cell_type": "code",
   "execution_count": 12,
   "metadata": {},
   "outputs": [],
   "source": [
    "# define a function to get the predictions for an actor/actress\n",
    "@torch.no_grad()\n",
    "def get_preds_for_dataset(model, subset, context, batch_size=8, num_workers=8, device=device):\n",
    "    datalaoder = DataLoader(subset, batch_size=batch_size, num_workers=num_workers, pin_memory=device == 'cuda')\n",
    "    \n",
    "    context = context.to(device)\n",
    "    model = model.to(device)\n",
    "\n",
    "    preds = []\n",
    "    for x, _ in tqdm(datalaoder, desc='Iterating Dataset'):\n",
    "        x = x.to(device)\n",
    "        image_features, text_features, logits_scale = model(x, context)\n",
    "        # we have to calculate the cosine similarity manually. OpenAI does this internally.\n",
    "        logits_per_image = logits_scale  * image_features @ text_features.T\n",
    "        preds.append(logits_per_image.argmax(-1).cpu())\n",
    "\n",
    "    model = model.cpu()\n",
    "    context = context.cpu()\n",
    "    return torch.cat(preds)\n"
   ]
  },
  {
   "cell_type": "code",
   "execution_count": 13,
   "metadata": {},
   "outputs": [
    {
     "data": {
      "application/vnd.jupyter.widget-view+json": {
       "model_id": "26222337a24b44fd8f53123d16053ec8",
       "version_major": 2,
       "version_minor": 0
      },
      "text/plain": [
       "Iterating Dataset:   0%|          | 0/9 [00:00<?, ?it/s]"
      ]
     },
     "metadata": {},
     "output_type": "display_data"
    },
    {
     "name": "stdout",
     "output_type": "stream",
     "text": [
      "Prediction: Adam_Sandler\t Correct Class: Adam_Sandler\n"
     ]
    }
   ],
   "source": [
    "test_subset_dataset = dataset_class_subset_per_model[MODEL_NAMES[0]][3]\n",
    "unique_vals, counts = get_preds_for_dataset(models[MODEL_NAMES[0]], test_subset_dataset, label_context_vecs[MODEL_NAMES[0]]).unique(return_counts=True)\n",
    "prediction = unique_vals[counts.argmax()]\n",
    "print(f'Prediction: {concat_datasets[MODEL_NAMES[0]].classes[prediction]}\\t Correct Class: {concat_datasets[MODEL_NAMES[0]].classes[test_subset_dataset.target_class]}')"
   ]
  },
  {
   "cell_type": "code",
   "execution_count": 14,
   "metadata": {},
   "outputs": [
    {
     "data": {
      "application/vnd.jupyter.widget-view+json": {
       "model_id": "e1511aa6ff724b8bbae9a8aaa1d4b4b7",
       "version_major": 2,
       "version_minor": 0
      },
      "text/plain": [
       "Iterating Dataset:   0%|          | 0/4 [00:00<?, ?it/s]"
      ]
     },
     "metadata": {},
     "output_type": "display_data"
    },
    {
     "name": "stdout",
     "output_type": "stream",
     "text": [
      "Prediction: Lecy_Goranson\t Correct Class: Friederike_Linke\n"
     ]
    }
   ],
   "source": [
    "test_subset_dataset = dataset_class_subset_per_model[MODEL_NAMES[0]][-3]\n",
    "unique_vals, counts = get_preds_for_dataset(models[MODEL_NAMES[0]], test_subset_dataset, label_context_vecs[MODEL_NAMES[0]]).unique(return_counts=True)\n",
    "prediction = unique_vals[counts.argmax()]\n",
    "print(f'Prediction: {concat_datasets[MODEL_NAMES[0]].classes[prediction]}\\t Correct Class: {concat_datasets[MODEL_NAMES[0]].classes[test_subset_dataset.target_class]}')"
   ]
  },
  {
   "cell_type": "markdown",
   "metadata": {},
   "source": [
    "# Run the CLIP model on each Actress/Actor"
   ]
  },
  {
   "cell_type": "code",
   "execution_count": 15,
   "metadata": {},
   "outputs": [
    {
     "name": "stdout",
     "output_type": "stream",
     "text": [
      "ViT-B-32:\n"
     ]
    },
    {
     "data": {
      "application/vnd.jupyter.widget-view+json": {
       "model_id": "e1e8cc3e17ce42deb299fbc8d3b5282b",
       "version_major": 2,
       "version_minor": 0
      },
      "text/plain": [
       "Iterating Dataset:   0%|          | 0/150 [00:00<?, ?it/s]"
      ]
     },
     "metadata": {},
     "output_type": "display_data"
    },
    {
     "name": "stderr",
     "output_type": "stream",
     "text": [
      "/opt/conda/lib/python3.8/site-packages/PIL/TiffImagePlugin.py:822: UserWarning: Corrupt EXIF data.  Expecting to read 2 bytes but only got 0. \n",
      "  warnings.warn(str(msg))\n"
     ]
    },
    {
     "name": "stdout",
     "output_type": "stream",
     "text": [
      "ViT-B-16:\n"
     ]
    },
    {
     "data": {
      "application/vnd.jupyter.widget-view+json": {
       "model_id": "4c3e1a6cdf594d9899a85b4c268db4e6",
       "version_major": 2,
       "version_minor": 0
      },
      "text/plain": [
       "Iterating Dataset:   0%|          | 0/150 [00:00<?, ?it/s]"
      ]
     },
     "metadata": {},
     "output_type": "display_data"
    },
    {
     "name": "stderr",
     "output_type": "stream",
     "text": [
      "/opt/conda/lib/python3.8/site-packages/PIL/TiffImagePlugin.py:822: UserWarning: Corrupt EXIF data.  Expecting to read 2 bytes but only got 0. \n",
      "  warnings.warn(str(msg))\n"
     ]
    },
    {
     "name": "stdout",
     "output_type": "stream",
     "text": [
      "ViT-L-14:\n"
     ]
    },
    {
     "data": {
      "application/vnd.jupyter.widget-view+json": {
       "model_id": "a969cd10b9834c688236c02b3e662f48",
       "version_major": 2,
       "version_minor": 0
      },
      "text/plain": [
       "Iterating Dataset:   0%|          | 0/150 [00:00<?, ?it/s]"
      ]
     },
     "metadata": {},
     "output_type": "display_data"
    },
    {
     "name": "stderr",
     "output_type": "stream",
     "text": [
      "/opt/conda/lib/python3.8/site-packages/PIL/TiffImagePlugin.py:822: UserWarning: Corrupt EXIF data.  Expecting to read 2 bytes but only got 0. \n",
      "  warnings.warn(str(msg))\n"
     ]
    }
   ],
   "source": [
    "preds_per_model = {}\n",
    "for model_name in MODEL_NAMES:\n",
    "    dataset = PTConcatDataset(dataset_class_subset_per_model[model_name])\n",
    "    print(f'{model_name}:')\n",
    "    preds = get_preds_for_dataset(models[model_name], dataset, label_context_vecs[model_name], batch_size=256, num_workers=64)\n",
    "    assert len(preds) == len(dataset)\n",
    "    preds_per_model[model_name] = preds"
   ]
  },
  {
   "cell_type": "code",
   "execution_count": 16,
   "metadata": {},
   "outputs": [],
   "source": [
    "# split the large list of all predictions into prediction lists for every class\n",
    "preds_per_model_per_subset = {}\n",
    "for model_name, preds in preds_per_model.items():\n",
    "    preds_per_subset = []\n",
    "    counter = 0\n",
    "    for subset in dataset_class_subset_per_model[model_name]:\n",
    "        preds_per_subset.append(preds[counter:counter + len(subset)])\n",
    "        counter += len(subset)\n",
    "    preds_per_model_per_subset[model_name] = preds_per_subset"
   ]
  },
  {
   "cell_type": "code",
   "execution_count": 17,
   "metadata": {},
   "outputs": [],
   "source": [
    "preds_df_per_model = {}\n",
    "for model_name in models.keys():\n",
    "    df_list = []\n",
    "    for group_idx, (dataset_subset, preds_subset) in enumerate(zip(dataset_class_subsets, preds_per_model_per_subset[model_name])):\n",
    "        for sample_idx, pred in enumerate(preds_subset):\n",
    "            class_name = concat_datasets[model_name].classes[dataset_class_subsets[group_idx].target_class]\n",
    "            df_list.append({\n",
    "                'group_idx': group_idx,\n",
    "                'class_name': class_name,\n",
    "                'sample_idx': sample_idx,\n",
    "                'prediction': concat_datasets[model_name].classes[int(pred)]\n",
    "            })\n",
    "    preds_df = pd.DataFrame(df_list)\n",
    "    preds_df_per_model[model_name] = preds_df"
   ]
  },
  {
   "cell_type": "code",
   "execution_count": 18,
   "metadata": {},
   "outputs": [
    {
     "data": {
      "text/html": [
       "<div>\n",
       "<style scoped>\n",
       "    .dataframe tbody tr th:only-of-type {\n",
       "        vertical-align: middle;\n",
       "    }\n",
       "\n",
       "    .dataframe tbody tr th {\n",
       "        vertical-align: top;\n",
       "    }\n",
       "\n",
       "    .dataframe thead th {\n",
       "        text-align: right;\n",
       "    }\n",
       "</style>\n",
       "<table border=\"1\" class=\"dataframe\">\n",
       "  <thead>\n",
       "    <tr style=\"text-align: right;\">\n",
       "      <th></th>\n",
       "      <th>group_idx</th>\n",
       "      <th>class_name</th>\n",
       "      <th>sample_idx</th>\n",
       "      <th>prediction</th>\n",
       "    </tr>\n",
       "  </thead>\n",
       "  <tbody>\n",
       "    <tr>\n",
       "      <th>0</th>\n",
       "      <td>0</td>\n",
       "      <td>Aaron_Eckhart</td>\n",
       "      <td>0</td>\n",
       "      <td>Aaron_Eckhart</td>\n",
       "    </tr>\n",
       "    <tr>\n",
       "      <th>1</th>\n",
       "      <td>0</td>\n",
       "      <td>Aaron_Eckhart</td>\n",
       "      <td>1</td>\n",
       "      <td>Aaron_Eckhart</td>\n",
       "    </tr>\n",
       "    <tr>\n",
       "      <th>2</th>\n",
       "      <td>0</td>\n",
       "      <td>Aaron_Eckhart</td>\n",
       "      <td>2</td>\n",
       "      <td>Aaron_Eckhart</td>\n",
       "    </tr>\n",
       "    <tr>\n",
       "      <th>3</th>\n",
       "      <td>0</td>\n",
       "      <td>Aaron_Eckhart</td>\n",
       "      <td>3</td>\n",
       "      <td>Aaron_Eckhart</td>\n",
       "    </tr>\n",
       "    <tr>\n",
       "      <th>4</th>\n",
       "      <td>0</td>\n",
       "      <td>Aaron_Eckhart</td>\n",
       "      <td>4</td>\n",
       "      <td>Aaron_Eckhart</td>\n",
       "    </tr>\n",
       "    <tr>\n",
       "      <th>...</th>\n",
       "      <td>...</td>\n",
       "      <td>...</td>\n",
       "      <td>...</td>\n",
       "      <td>...</td>\n",
       "    </tr>\n",
       "    <tr>\n",
       "      <th>38199</th>\n",
       "      <td>545</td>\n",
       "      <td>Sonsee_Neu</td>\n",
       "      <td>25</td>\n",
       "      <td>Alice_Krige</td>\n",
       "    </tr>\n",
       "    <tr>\n",
       "      <th>38200</th>\n",
       "      <td>545</td>\n",
       "      <td>Sonsee_Neu</td>\n",
       "      <td>26</td>\n",
       "      <td>Carolin_Kebekus</td>\n",
       "    </tr>\n",
       "    <tr>\n",
       "      <th>38201</th>\n",
       "      <td>545</td>\n",
       "      <td>Sonsee_Neu</td>\n",
       "      <td>27</td>\n",
       "      <td>Julie_Marie_Berman</td>\n",
       "    </tr>\n",
       "    <tr>\n",
       "      <th>38202</th>\n",
       "      <td>545</td>\n",
       "      <td>Sonsee_Neu</td>\n",
       "      <td>28</td>\n",
       "      <td>Dina_Meyer</td>\n",
       "    </tr>\n",
       "    <tr>\n",
       "      <th>38203</th>\n",
       "      <td>545</td>\n",
       "      <td>Sonsee_Neu</td>\n",
       "      <td>29</td>\n",
       "      <td>Jennifer_Gareis</td>\n",
       "    </tr>\n",
       "  </tbody>\n",
       "</table>\n",
       "<p>38204 rows × 4 columns</p>\n",
       "</div>"
      ],
      "text/plain": [
       "       group_idx     class_name  sample_idx          prediction\n",
       "0              0  Aaron_Eckhart           0       Aaron_Eckhart\n",
       "1              0  Aaron_Eckhart           1       Aaron_Eckhart\n",
       "2              0  Aaron_Eckhart           2       Aaron_Eckhart\n",
       "3              0  Aaron_Eckhart           3       Aaron_Eckhart\n",
       "4              0  Aaron_Eckhart           4       Aaron_Eckhart\n",
       "...          ...            ...         ...                 ...\n",
       "38199        545     Sonsee_Neu          25         Alice_Krige\n",
       "38200        545     Sonsee_Neu          26     Carolin_Kebekus\n",
       "38201        545     Sonsee_Neu          27  Julie_Marie_Berman\n",
       "38202        545     Sonsee_Neu          28          Dina_Meyer\n",
       "38203        545     Sonsee_Neu          29     Jennifer_Gareis\n",
       "\n",
       "[38204 rows x 4 columns]"
      ]
     },
     "execution_count": 18,
     "metadata": {},
     "output_type": "execute_result"
    }
   ],
   "source": [
    "preds_df_per_model[model_name]"
   ]
  },
  {
   "cell_type": "code",
   "execution_count": 20,
   "metadata": {},
   "outputs": [
    {
     "data": {
      "text/html": [
       "<div>\n",
       "<style scoped>\n",
       "    .dataframe tbody tr th:only-of-type {\n",
       "        vertical-align: middle;\n",
       "    }\n",
       "\n",
       "    .dataframe tbody tr th {\n",
       "        vertical-align: top;\n",
       "    }\n",
       "\n",
       "    .dataframe thead th {\n",
       "        text-align: right;\n",
       "    }\n",
       "</style>\n",
       "<table border=\"1\" class=\"dataframe\">\n",
       "  <thead>\n",
       "    <tr style=\"text-align: right;\">\n",
       "      <th></th>\n",
       "      <th>group_idx</th>\n",
       "      <th>class_name</th>\n",
       "      <th>sample_idx</th>\n",
       "      <th>prediction</th>\n",
       "      <th>actual_membership</th>\n",
       "    </tr>\n",
       "  </thead>\n",
       "  <tbody>\n",
       "    <tr>\n",
       "      <th>0</th>\n",
       "      <td>0</td>\n",
       "      <td>Aaron_Eckhart</td>\n",
       "      <td>0</td>\n",
       "      <td>Aaron_Eckhart</td>\n",
       "      <td>member</td>\n",
       "    </tr>\n",
       "    <tr>\n",
       "      <th>1</th>\n",
       "      <td>0</td>\n",
       "      <td>Aaron_Eckhart</td>\n",
       "      <td>1</td>\n",
       "      <td>Aaron_Eckhart</td>\n",
       "      <td>member</td>\n",
       "    </tr>\n",
       "    <tr>\n",
       "      <th>2</th>\n",
       "      <td>0</td>\n",
       "      <td>Aaron_Eckhart</td>\n",
       "      <td>2</td>\n",
       "      <td>Aaron_Eckhart</td>\n",
       "      <td>member</td>\n",
       "    </tr>\n",
       "    <tr>\n",
       "      <th>3</th>\n",
       "      <td>0</td>\n",
       "      <td>Aaron_Eckhart</td>\n",
       "      <td>3</td>\n",
       "      <td>Aaron_Eckhart</td>\n",
       "      <td>member</td>\n",
       "    </tr>\n",
       "    <tr>\n",
       "      <th>4</th>\n",
       "      <td>0</td>\n",
       "      <td>Aaron_Eckhart</td>\n",
       "      <td>4</td>\n",
       "      <td>Aaron_Eckhart</td>\n",
       "      <td>member</td>\n",
       "    </tr>\n",
       "    <tr>\n",
       "      <th>...</th>\n",
       "      <td>...</td>\n",
       "      <td>...</td>\n",
       "      <td>...</td>\n",
       "      <td>...</td>\n",
       "      <td>...</td>\n",
       "    </tr>\n",
       "    <tr>\n",
       "      <th>37678</th>\n",
       "      <td>545</td>\n",
       "      <td>Sonsee_Neu</td>\n",
       "      <td>25</td>\n",
       "      <td>Alice_Krige</td>\n",
       "      <td>non_member</td>\n",
       "    </tr>\n",
       "    <tr>\n",
       "      <th>37679</th>\n",
       "      <td>545</td>\n",
       "      <td>Sonsee_Neu</td>\n",
       "      <td>26</td>\n",
       "      <td>Carolin_Kebekus</td>\n",
       "      <td>non_member</td>\n",
       "    </tr>\n",
       "    <tr>\n",
       "      <th>37680</th>\n",
       "      <td>545</td>\n",
       "      <td>Sonsee_Neu</td>\n",
       "      <td>27</td>\n",
       "      <td>Julie_Marie_Berman</td>\n",
       "      <td>non_member</td>\n",
       "    </tr>\n",
       "    <tr>\n",
       "      <th>37681</th>\n",
       "      <td>545</td>\n",
       "      <td>Sonsee_Neu</td>\n",
       "      <td>28</td>\n",
       "      <td>Dina_Meyer</td>\n",
       "      <td>non_member</td>\n",
       "    </tr>\n",
       "    <tr>\n",
       "      <th>37682</th>\n",
       "      <td>545</td>\n",
       "      <td>Sonsee_Neu</td>\n",
       "      <td>29</td>\n",
       "      <td>Jennifer_Gareis</td>\n",
       "      <td>non_member</td>\n",
       "    </tr>\n",
       "  </tbody>\n",
       "</table>\n",
       "<p>37683 rows × 5 columns</p>\n",
       "</div>"
      ],
      "text/plain": [
       "       group_idx     class_name  sample_idx          prediction  \\\n",
       "0              0  Aaron_Eckhart           0       Aaron_Eckhart   \n",
       "1              0  Aaron_Eckhart           1       Aaron_Eckhart   \n",
       "2              0  Aaron_Eckhart           2       Aaron_Eckhart   \n",
       "3              0  Aaron_Eckhart           3       Aaron_Eckhart   \n",
       "4              0  Aaron_Eckhart           4       Aaron_Eckhart   \n",
       "...          ...            ...         ...                 ...   \n",
       "37678        545     Sonsee_Neu          25         Alice_Krige   \n",
       "37679        545     Sonsee_Neu          26     Carolin_Kebekus   \n",
       "37680        545     Sonsee_Neu          27  Julie_Marie_Berman   \n",
       "37681        545     Sonsee_Neu          28          Dina_Meyer   \n",
       "37682        545     Sonsee_Neu          29     Jennifer_Gareis   \n",
       "\n",
       "      actual_membership  \n",
       "0                member  \n",
       "1                member  \n",
       "2                member  \n",
       "3                member  \n",
       "4                member  \n",
       "...                 ...  \n",
       "37678        non_member  \n",
       "37679        non_member  \n",
       "37680        non_member  \n",
       "37681        non_member  \n",
       "37682        non_member  \n",
       "\n",
       "[37683 rows x 5 columns]"
      ]
     },
     "execution_count": 20,
     "metadata": {},
     "output_type": "execute_result"
    }
   ],
   "source": [
    "# determine the actual membership of the samples\n",
    "for model_name, preds_df in preds_df_per_model.items():\n",
    "    members = pd.merge(preds_df, laion_members['class_name'], on='class_name')\n",
    "    members['actual_membership'] = 'member'\n",
    "    non_members = pd.merge(preds_df, laion_non_members['class_name'], on='class_name')\n",
    "    non_members['actual_membership'] = 'non_member'\n",
    "    preds_df_per_model[model_name] = pd.concat([members, non_members]).reset_index(drop=True)\n",
    "\n",
    "preds_df_per_model[model_name]"
   ]
  },
  {
   "cell_type": "code",
   "execution_count": 21,
   "metadata": {},
   "outputs": [
    {
     "data": {
      "text/html": [
       "<div>\n",
       "<style scoped>\n",
       "    .dataframe tbody tr th:only-of-type {\n",
       "        vertical-align: middle;\n",
       "    }\n",
       "\n",
       "    .dataframe tbody tr th {\n",
       "        vertical-align: top;\n",
       "    }\n",
       "\n",
       "    .dataframe thead th {\n",
       "        text-align: right;\n",
       "    }\n",
       "</style>\n",
       "<table border=\"1\" class=\"dataframe\">\n",
       "  <thead>\n",
       "    <tr style=\"text-align: right;\">\n",
       "      <th></th>\n",
       "      <th>group_idx</th>\n",
       "      <th>class_name</th>\n",
       "      <th>sample_idx</th>\n",
       "      <th>prediction</th>\n",
       "      <th>actual_membership</th>\n",
       "    </tr>\n",
       "  </thead>\n",
       "  <tbody>\n",
       "    <tr>\n",
       "      <th>65</th>\n",
       "      <td>0</td>\n",
       "      <td>Aaron_Eckhart</td>\n",
       "      <td>65</td>\n",
       "      <td>Aaron_Eckhart</td>\n",
       "      <td>member</td>\n",
       "    </tr>\n",
       "    <tr>\n",
       "      <th>12</th>\n",
       "      <td>0</td>\n",
       "      <td>Aaron_Eckhart</td>\n",
       "      <td>12</td>\n",
       "      <td>Aaron_Eckhart</td>\n",
       "      <td>member</td>\n",
       "    </tr>\n",
       "    <tr>\n",
       "      <th>157</th>\n",
       "      <td>1</td>\n",
       "      <td>Adam_Brody</td>\n",
       "      <td>66</td>\n",
       "      <td>Chris_Klein</td>\n",
       "      <td>member</td>\n",
       "    </tr>\n",
       "    <tr>\n",
       "      <th>160</th>\n",
       "      <td>1</td>\n",
       "      <td>Adam_Brody</td>\n",
       "      <td>69</td>\n",
       "      <td>Jackson_Rathbone</td>\n",
       "      <td>member</td>\n",
       "    </tr>\n",
       "    <tr>\n",
       "      <th>193</th>\n",
       "      <td>3</td>\n",
       "      <td>Adam_Sandler</td>\n",
       "      <td>7</td>\n",
       "      <td>Adam_Sandler</td>\n",
       "      <td>member</td>\n",
       "    </tr>\n",
       "    <tr>\n",
       "      <th>219</th>\n",
       "      <td>3</td>\n",
       "      <td>Adam_Sandler</td>\n",
       "      <td>33</td>\n",
       "      <td>Adam_Sandler</td>\n",
       "      <td>member</td>\n",
       "    </tr>\n",
       "    <tr>\n",
       "      <th>318</th>\n",
       "      <td>4</td>\n",
       "      <td>Adrien_Brody</td>\n",
       "      <td>60</td>\n",
       "      <td>David_Schwimmer</td>\n",
       "      <td>member</td>\n",
       "    </tr>\n",
       "    <tr>\n",
       "      <th>281</th>\n",
       "      <td>4</td>\n",
       "      <td>Adrien_Brody</td>\n",
       "      <td>23</td>\n",
       "      <td>Adrien_Brody</td>\n",
       "      <td>member</td>\n",
       "    </tr>\n",
       "    <tr>\n",
       "      <th>19997</th>\n",
       "      <td>266</td>\n",
       "      <td>Adrienne_Barbeau</td>\n",
       "      <td>28</td>\n",
       "      <td>Sara_Gilbert</td>\n",
       "      <td>member</td>\n",
       "    </tr>\n",
       "    <tr>\n",
       "      <th>19992</th>\n",
       "      <td>266</td>\n",
       "      <td>Adrienne_Barbeau</td>\n",
       "      <td>23</td>\n",
       "      <td>Adrienne_Barbeau</td>\n",
       "      <td>member</td>\n",
       "    </tr>\n",
       "  </tbody>\n",
       "</table>\n",
       "</div>"
      ],
      "text/plain": [
       "       group_idx        class_name  sample_idx        prediction  \\\n",
       "65             0     Aaron_Eckhart          65     Aaron_Eckhart   \n",
       "12             0     Aaron_Eckhart          12     Aaron_Eckhart   \n",
       "157            1        Adam_Brody          66       Chris_Klein   \n",
       "160            1        Adam_Brody          69  Jackson_Rathbone   \n",
       "193            3      Adam_Sandler           7      Adam_Sandler   \n",
       "219            3      Adam_Sandler          33      Adam_Sandler   \n",
       "318            4      Adrien_Brody          60   David_Schwimmer   \n",
       "281            4      Adrien_Brody          23      Adrien_Brody   \n",
       "19997        266  Adrienne_Barbeau          28      Sara_Gilbert   \n",
       "19992        266  Adrienne_Barbeau          23  Adrienne_Barbeau   \n",
       "\n",
       "      actual_membership  \n",
       "65               member  \n",
       "12               member  \n",
       "157              member  \n",
       "160              member  \n",
       "193              member  \n",
       "219              member  \n",
       "318              member  \n",
       "281              member  \n",
       "19997            member  \n",
       "19992            member  "
      ]
     },
     "execution_count": 21,
     "metadata": {},
     "output_type": "execute_result"
    }
   ],
   "source": [
    "preds_df_per_model['ViT-B-32'].groupby('class_name').sample(2).head(10)"
   ]
  },
  {
   "cell_type": "code",
   "execution_count": 20,
   "metadata": {},
   "outputs": [
    {
     "data": {
      "text/plain": [
       "523"
      ]
     },
     "execution_count": 20,
     "metadata": {},
     "output_type": "execute_result"
    }
   ],
   "source": [
    "len(preds_df_per_model[model_name].groupby('class_name'))"
   ]
  },
  {
   "cell_type": "code",
   "execution_count": 21,
   "metadata": {},
   "outputs": [],
   "source": [
    "subsample_sizes_per_model = {}\n",
    "for model_name, preds_df in preds_df_per_model.items():\n",
    "    min_num_images = preds_df.value_counts('class_name').sort_values()[0]\n",
    "    subsample_sizes = np.arange(0, min_num_images+1, 2).tolist()\n",
    "    subsample_sizes[0] = 1\n",
    "    subsample_sizes_per_model[model_name] = subsample_sizes"
   ]
  },
  {
   "cell_type": "code",
   "execution_count": 22,
   "metadata": {},
   "outputs": [
    {
     "data": {
      "application/vnd.jupyter.widget-view+json": {
       "model_id": "15a697cac9774a4e9cc16c9752e73e4d",
       "version_major": 2,
       "version_minor": 0
      },
      "text/plain": [
       "  0%|          | 0/16 [00:00<?, ?it/s]"
      ]
     },
     "metadata": {},
     "output_type": "display_data"
    },
    {
     "data": {
      "application/vnd.jupyter.widget-view+json": {
       "model_id": "df26678f5b024eddac5839f5ea2d2c56",
       "version_major": 2,
       "version_minor": 0
      },
      "text/plain": [
       "  0%|          | 0/16 [00:00<?, ?it/s]"
      ]
     },
     "metadata": {},
     "output_type": "display_data"
    },
    {
     "data": {
      "application/vnd.jupyter.widget-view+json": {
       "model_id": "4e71f1261a4a478681632665b6dc9520",
       "version_major": 2,
       "version_minor": 0
      },
      "text/plain": [
       "  0%|          | 0/16 [00:00<?, ?it/s]"
      ]
     },
     "metadata": {},
     "output_type": "display_data"
    }
   ],
   "source": [
    "subsampled_dfs_per_model = {}\n",
    "sample_draws = 20\n",
    "for model_name, preds_df in preds_df_per_model.items():\n",
    "    subsample_sizes = subsample_sizes_per_model[model_name]\n",
    "    subsampled_dfs = []\n",
    "    for sample_size in tqdm(subsample_sizes):\n",
    "        for i in range(sample_draws):\n",
    "            membership_prediction_df = preds_df.groupby('class_name').sample(sample_size).groupby('class_name')['prediction'].agg(pd.Series.mode).apply(lambda x: x.tolist() if isinstance(x, np.ndarray) else [x]).reset_index()\n",
    "            membership_prediction_df['membership_prediction'] = membership_prediction_df.apply(lambda x: 'member' if len(x['prediction']) == 1 and x['class_name'] in x['prediction'] else 'non_member', axis='columns')\n",
    "            membership_prediction_df = pd.merge(membership_prediction_df, preds_df[['class_name', 'actual_membership']].groupby('class_name')['actual_membership'].agg(pd.Series.mode), on='class_name')\n",
    "            num_member, num_non_member = membership_prediction_df['actual_membership'].value_counts()['member'], membership_prediction_df['actual_membership'].value_counts()['non_member']\n",
    "\n",
    "            tp = len(membership_prediction_df[(membership_prediction_df['membership_prediction'] == 'member') & (membership_prediction_df['actual_membership'] == 'member')])\n",
    "            fp = len(membership_prediction_df[(membership_prediction_df['membership_prediction'] == 'member') & (membership_prediction_df['actual_membership'] == 'non_member')])\n",
    "            fn = len(membership_prediction_df[(membership_prediction_df['membership_prediction'] == 'non_member') & (membership_prediction_df['actual_membership'] == 'member')])\n",
    "            tn = len(membership_prediction_df[(membership_prediction_df['membership_prediction'] == 'non_member') & (membership_prediction_df['actual_membership'] == 'non_member')])\n",
    "\n",
    "            subsampled_dfs.append({\n",
    "                'sample_size': sample_size,\n",
    "                'draw': i,\n",
    "                'tpr': tp / num_member,\n",
    "                'fnr': fn / num_member,\n",
    "                'fpr': fp / num_non_member,\n",
    "                'tnr': tn / num_non_member,\n",
    "                'tp': tp,\n",
    "                'fn': fn,\n",
    "                'fp': fp,\n",
    "                'tn': tn\n",
    "            })\n",
    "    subsampled_dfs_per_model[model_name] = subsampled_dfs"
   ]
  },
  {
   "cell_type": "code",
   "execution_count": 23,
   "metadata": {},
   "outputs": [],
   "source": [
    "for model_name, subsampled_dfs in subsampled_dfs_per_model.items():\n",
    "    subsampled_dfs_per_model[model_name] = pd.DataFrame(subsampled_dfs_per_model[model_name]).set_index('sample_size').drop('draw', axis='columns')\n",
    "    subsampled_dfs_per_model[model_name] = subsampled_dfs_per_model[model_name].rename(columns={'tpr': 'True Positive Rate', 'fnr': 'False Negative Rate', 'fpr': 'False Positive Rate', 'tnr': 'True Negative Rate'})\n",
    "    subsampled_dfs_per_model[model_name].index.name = 'Number of Samples'"
   ]
  },
  {
   "cell_type": "code",
   "execution_count": 24,
   "metadata": {},
   "outputs": [
    {
     "data": {
      "text/html": [
       "<div>\n",
       "<style scoped>\n",
       "    .dataframe tbody tr th:only-of-type {\n",
       "        vertical-align: middle;\n",
       "    }\n",
       "\n",
       "    .dataframe tbody tr th {\n",
       "        vertical-align: top;\n",
       "    }\n",
       "\n",
       "    .dataframe thead th {\n",
       "        text-align: right;\n",
       "    }\n",
       "</style>\n",
       "<table border=\"1\" class=\"dataframe\">\n",
       "  <thead>\n",
       "    <tr style=\"text-align: right;\">\n",
       "      <th></th>\n",
       "      <th>True Positive Rate</th>\n",
       "      <th>False Negative Rate</th>\n",
       "      <th>False Positive Rate</th>\n",
       "      <th>True Negative Rate</th>\n",
       "      <th>tp</th>\n",
       "      <th>fn</th>\n",
       "      <th>fp</th>\n",
       "      <th>tn</th>\n",
       "    </tr>\n",
       "    <tr>\n",
       "      <th>Number of Samples</th>\n",
       "      <th></th>\n",
       "      <th></th>\n",
       "      <th></th>\n",
       "      <th></th>\n",
       "      <th></th>\n",
       "      <th></th>\n",
       "      <th></th>\n",
       "      <th></th>\n",
       "    </tr>\n",
       "  </thead>\n",
       "  <tbody>\n",
       "    <tr>\n",
       "      <th>1</th>\n",
       "      <td>0.661386</td>\n",
       "      <td>0.338614</td>\n",
       "      <td>0.055556</td>\n",
       "      <td>0.944444</td>\n",
       "      <td>334</td>\n",
       "      <td>171</td>\n",
       "      <td>1</td>\n",
       "      <td>17</td>\n",
       "    </tr>\n",
       "    <tr>\n",
       "      <th>1</th>\n",
       "      <td>0.641584</td>\n",
       "      <td>0.358416</td>\n",
       "      <td>0.111111</td>\n",
       "      <td>0.888889</td>\n",
       "      <td>324</td>\n",
       "      <td>181</td>\n",
       "      <td>2</td>\n",
       "      <td>16</td>\n",
       "    </tr>\n",
       "    <tr>\n",
       "      <th>1</th>\n",
       "      <td>0.651485</td>\n",
       "      <td>0.348515</td>\n",
       "      <td>0.055556</td>\n",
       "      <td>0.944444</td>\n",
       "      <td>329</td>\n",
       "      <td>176</td>\n",
       "      <td>1</td>\n",
       "      <td>17</td>\n",
       "    </tr>\n",
       "    <tr>\n",
       "      <th>1</th>\n",
       "      <td>0.635644</td>\n",
       "      <td>0.364356</td>\n",
       "      <td>0.111111</td>\n",
       "      <td>0.888889</td>\n",
       "      <td>321</td>\n",
       "      <td>184</td>\n",
       "      <td>2</td>\n",
       "      <td>16</td>\n",
       "    </tr>\n",
       "    <tr>\n",
       "      <th>1</th>\n",
       "      <td>0.641584</td>\n",
       "      <td>0.358416</td>\n",
       "      <td>0.111111</td>\n",
       "      <td>0.888889</td>\n",
       "      <td>324</td>\n",
       "      <td>181</td>\n",
       "      <td>2</td>\n",
       "      <td>16</td>\n",
       "    </tr>\n",
       "    <tr>\n",
       "      <th>...</th>\n",
       "      <td>...</td>\n",
       "      <td>...</td>\n",
       "      <td>...</td>\n",
       "      <td>...</td>\n",
       "      <td>...</td>\n",
       "      <td>...</td>\n",
       "      <td>...</td>\n",
       "      <td>...</td>\n",
       "    </tr>\n",
       "    <tr>\n",
       "      <th>30</th>\n",
       "      <td>0.922772</td>\n",
       "      <td>0.077228</td>\n",
       "      <td>0.000000</td>\n",
       "      <td>1.000000</td>\n",
       "      <td>466</td>\n",
       "      <td>39</td>\n",
       "      <td>0</td>\n",
       "      <td>18</td>\n",
       "    </tr>\n",
       "    <tr>\n",
       "      <th>30</th>\n",
       "      <td>0.920792</td>\n",
       "      <td>0.079208</td>\n",
       "      <td>0.000000</td>\n",
       "      <td>1.000000</td>\n",
       "      <td>465</td>\n",
       "      <td>40</td>\n",
       "      <td>0</td>\n",
       "      <td>18</td>\n",
       "    </tr>\n",
       "    <tr>\n",
       "      <th>30</th>\n",
       "      <td>0.924752</td>\n",
       "      <td>0.075248</td>\n",
       "      <td>0.000000</td>\n",
       "      <td>1.000000</td>\n",
       "      <td>467</td>\n",
       "      <td>38</td>\n",
       "      <td>0</td>\n",
       "      <td>18</td>\n",
       "    </tr>\n",
       "    <tr>\n",
       "      <th>30</th>\n",
       "      <td>0.914851</td>\n",
       "      <td>0.085149</td>\n",
       "      <td>0.000000</td>\n",
       "      <td>1.000000</td>\n",
       "      <td>462</td>\n",
       "      <td>43</td>\n",
       "      <td>0</td>\n",
       "      <td>18</td>\n",
       "    </tr>\n",
       "    <tr>\n",
       "      <th>30</th>\n",
       "      <td>0.920792</td>\n",
       "      <td>0.079208</td>\n",
       "      <td>0.000000</td>\n",
       "      <td>1.000000</td>\n",
       "      <td>465</td>\n",
       "      <td>40</td>\n",
       "      <td>0</td>\n",
       "      <td>18</td>\n",
       "    </tr>\n",
       "  </tbody>\n",
       "</table>\n",
       "<p>320 rows × 8 columns</p>\n",
       "</div>"
      ],
      "text/plain": [
       "                   True Positive Rate  False Negative Rate  \\\n",
       "Number of Samples                                            \n",
       "1                            0.661386             0.338614   \n",
       "1                            0.641584             0.358416   \n",
       "1                            0.651485             0.348515   \n",
       "1                            0.635644             0.364356   \n",
       "1                            0.641584             0.358416   \n",
       "...                               ...                  ...   \n",
       "30                           0.922772             0.077228   \n",
       "30                           0.920792             0.079208   \n",
       "30                           0.924752             0.075248   \n",
       "30                           0.914851             0.085149   \n",
       "30                           0.920792             0.079208   \n",
       "\n",
       "                   False Positive Rate  True Negative Rate   tp   fn  fp  tn  \n",
       "Number of Samples                                                             \n",
       "1                             0.055556            0.944444  334  171   1  17  \n",
       "1                             0.111111            0.888889  324  181   2  16  \n",
       "1                             0.055556            0.944444  329  176   1  17  \n",
       "1                             0.111111            0.888889  321  184   2  16  \n",
       "1                             0.111111            0.888889  324  181   2  16  \n",
       "...                                ...                 ...  ...  ...  ..  ..  \n",
       "30                            0.000000            1.000000  466   39   0  18  \n",
       "30                            0.000000            1.000000  465   40   0  18  \n",
       "30                            0.000000            1.000000  467   38   0  18  \n",
       "30                            0.000000            1.000000  462   43   0  18  \n",
       "30                            0.000000            1.000000  465   40   0  18  \n",
       "\n",
       "[320 rows x 8 columns]"
      ]
     },
     "execution_count": 24,
     "metadata": {},
     "output_type": "execute_result"
    }
   ],
   "source": [
    "subsampled_dfs_per_model['ViT-B-32']"
   ]
  },
  {
   "cell_type": "code",
   "execution_count": 30,
   "metadata": {},
   "outputs": [],
   "source": [
    "# TODO: uncomment this if you run the notebook for the first time to store the predictions to a file\n",
    "# for model_name, subsampled_dfs in subsampled_dfs_per_model.items():\n",
    "#     subsampled_dfs.to_csv(f'laion400m_experiments/prediction_dfs/predictions_laion_{model_name}.csv')\n",
    "subsampled_dfs_per_model = {}\n",
    "for model_name, _ in models.items():\n",
    "    subsampled_dfs_per_model[model_name] = pd.read_csv(f'laion400m_experiments/prediction_dfs/predictions_laion_{model_name}.csv', index_col=0)"
   ]
  },
  {
   "cell_type": "code",
   "execution_count": 31,
   "metadata": {},
   "outputs": [
    {
     "data": {
      "text/html": [
       "<div>\n",
       "<style scoped>\n",
       "    .dataframe tbody tr th:only-of-type {\n",
       "        vertical-align: middle;\n",
       "    }\n",
       "\n",
       "    .dataframe tbody tr th {\n",
       "        vertical-align: top;\n",
       "    }\n",
       "\n",
       "    .dataframe thead th {\n",
       "        text-align: right;\n",
       "    }\n",
       "</style>\n",
       "<table border=\"1\" class=\"dataframe\">\n",
       "  <thead>\n",
       "    <tr style=\"text-align: right;\">\n",
       "      <th></th>\n",
       "      <th>True Positive Rate</th>\n",
       "      <th>False Negative Rate</th>\n",
       "      <th>False Positive Rate</th>\n",
       "      <th>True Negative Rate</th>\n",
       "      <th>tp</th>\n",
       "      <th>fn</th>\n",
       "      <th>fp</th>\n",
       "      <th>tn</th>\n",
       "    </tr>\n",
       "    <tr>\n",
       "      <th>Number of Samples</th>\n",
       "      <th></th>\n",
       "      <th></th>\n",
       "      <th></th>\n",
       "      <th></th>\n",
       "      <th></th>\n",
       "      <th></th>\n",
       "      <th></th>\n",
       "      <th></th>\n",
       "    </tr>\n",
       "  </thead>\n",
       "  <tbody>\n",
       "    <tr>\n",
       "      <th>30</th>\n",
       "      <td>0.924752</td>\n",
       "      <td>0.075248</td>\n",
       "      <td>0.0</td>\n",
       "      <td>1.0</td>\n",
       "      <td>467</td>\n",
       "      <td>38</td>\n",
       "      <td>0</td>\n",
       "      <td>18</td>\n",
       "    </tr>\n",
       "    <tr>\n",
       "      <th>30</th>\n",
       "      <td>0.914851</td>\n",
       "      <td>0.085149</td>\n",
       "      <td>0.0</td>\n",
       "      <td>1.0</td>\n",
       "      <td>462</td>\n",
       "      <td>43</td>\n",
       "      <td>0</td>\n",
       "      <td>18</td>\n",
       "    </tr>\n",
       "    <tr>\n",
       "      <th>30</th>\n",
       "      <td>0.920792</td>\n",
       "      <td>0.079208</td>\n",
       "      <td>0.0</td>\n",
       "      <td>1.0</td>\n",
       "      <td>465</td>\n",
       "      <td>40</td>\n",
       "      <td>0</td>\n",
       "      <td>18</td>\n",
       "    </tr>\n",
       "  </tbody>\n",
       "</table>\n",
       "</div>"
      ],
      "text/plain": [
       "                   True Positive Rate  False Negative Rate  \\\n",
       "Number of Samples                                            \n",
       "30                           0.924752             0.075248   \n",
       "30                           0.914851             0.085149   \n",
       "30                           0.920792             0.079208   \n",
       "\n",
       "                   False Positive Rate  True Negative Rate   tp  fn  fp  tn  \n",
       "Number of Samples                                                            \n",
       "30                                 0.0                 1.0  467  38   0  18  \n",
       "30                                 0.0                 1.0  462  43   0  18  \n",
       "30                                 0.0                 1.0  465  40   0  18  "
      ]
     },
     "metadata": {},
     "output_type": "display_data"
    },
    {
     "data": {
      "text/html": [
       "<div>\n",
       "<style scoped>\n",
       "    .dataframe tbody tr th:only-of-type {\n",
       "        vertical-align: middle;\n",
       "    }\n",
       "\n",
       "    .dataframe tbody tr th {\n",
       "        vertical-align: top;\n",
       "    }\n",
       "\n",
       "    .dataframe thead th {\n",
       "        text-align: right;\n",
       "    }\n",
       "</style>\n",
       "<table border=\"1\" class=\"dataframe\">\n",
       "  <thead>\n",
       "    <tr style=\"text-align: right;\">\n",
       "      <th></th>\n",
       "      <th>True Positive Rate</th>\n",
       "      <th>False Negative Rate</th>\n",
       "      <th>False Positive Rate</th>\n",
       "      <th>True Negative Rate</th>\n",
       "      <th>tp</th>\n",
       "      <th>fn</th>\n",
       "      <th>fp</th>\n",
       "      <th>tn</th>\n",
       "    </tr>\n",
       "    <tr>\n",
       "      <th>Number of Samples</th>\n",
       "      <th></th>\n",
       "      <th></th>\n",
       "      <th></th>\n",
       "      <th></th>\n",
       "      <th></th>\n",
       "      <th></th>\n",
       "      <th></th>\n",
       "      <th></th>\n",
       "    </tr>\n",
       "  </thead>\n",
       "  <tbody>\n",
       "    <tr>\n",
       "      <th>30</th>\n",
       "      <td>0.938614</td>\n",
       "      <td>0.061386</td>\n",
       "      <td>0.055556</td>\n",
       "      <td>0.944444</td>\n",
       "      <td>474</td>\n",
       "      <td>31</td>\n",
       "      <td>1</td>\n",
       "      <td>17</td>\n",
       "    </tr>\n",
       "    <tr>\n",
       "      <th>30</th>\n",
       "      <td>0.942574</td>\n",
       "      <td>0.057426</td>\n",
       "      <td>0.055556</td>\n",
       "      <td>0.944444</td>\n",
       "      <td>476</td>\n",
       "      <td>29</td>\n",
       "      <td>1</td>\n",
       "      <td>17</td>\n",
       "    </tr>\n",
       "    <tr>\n",
       "      <th>30</th>\n",
       "      <td>0.938614</td>\n",
       "      <td>0.061386</td>\n",
       "      <td>0.055556</td>\n",
       "      <td>0.944444</td>\n",
       "      <td>474</td>\n",
       "      <td>31</td>\n",
       "      <td>1</td>\n",
       "      <td>17</td>\n",
       "    </tr>\n",
       "  </tbody>\n",
       "</table>\n",
       "</div>"
      ],
      "text/plain": [
       "                   True Positive Rate  False Negative Rate  \\\n",
       "Number of Samples                                            \n",
       "30                           0.938614             0.061386   \n",
       "30                           0.942574             0.057426   \n",
       "30                           0.938614             0.061386   \n",
       "\n",
       "                   False Positive Rate  True Negative Rate   tp  fn  fp  tn  \n",
       "Number of Samples                                                            \n",
       "30                            0.055556            0.944444  474  31   1  17  \n",
       "30                            0.055556            0.944444  476  29   1  17  \n",
       "30                            0.055556            0.944444  474  31   1  17  "
      ]
     },
     "metadata": {},
     "output_type": "display_data"
    },
    {
     "data": {
      "text/html": [
       "<div>\n",
       "<style scoped>\n",
       "    .dataframe tbody tr th:only-of-type {\n",
       "        vertical-align: middle;\n",
       "    }\n",
       "\n",
       "    .dataframe tbody tr th {\n",
       "        vertical-align: top;\n",
       "    }\n",
       "\n",
       "    .dataframe thead th {\n",
       "        text-align: right;\n",
       "    }\n",
       "</style>\n",
       "<table border=\"1\" class=\"dataframe\">\n",
       "  <thead>\n",
       "    <tr style=\"text-align: right;\">\n",
       "      <th></th>\n",
       "      <th>True Positive Rate</th>\n",
       "      <th>False Negative Rate</th>\n",
       "      <th>False Positive Rate</th>\n",
       "      <th>True Negative Rate</th>\n",
       "      <th>tp</th>\n",
       "      <th>fn</th>\n",
       "      <th>fp</th>\n",
       "      <th>tn</th>\n",
       "    </tr>\n",
       "    <tr>\n",
       "      <th>Number of Samples</th>\n",
       "      <th></th>\n",
       "      <th></th>\n",
       "      <th></th>\n",
       "      <th></th>\n",
       "      <th></th>\n",
       "      <th></th>\n",
       "      <th></th>\n",
       "      <th></th>\n",
       "    </tr>\n",
       "  </thead>\n",
       "  <tbody>\n",
       "    <tr>\n",
       "      <th>30</th>\n",
       "      <td>0.954455</td>\n",
       "      <td>0.045545</td>\n",
       "      <td>0.222222</td>\n",
       "      <td>0.777778</td>\n",
       "      <td>482</td>\n",
       "      <td>23</td>\n",
       "      <td>4</td>\n",
       "      <td>14</td>\n",
       "    </tr>\n",
       "    <tr>\n",
       "      <th>30</th>\n",
       "      <td>0.948515</td>\n",
       "      <td>0.051485</td>\n",
       "      <td>0.222222</td>\n",
       "      <td>0.777778</td>\n",
       "      <td>479</td>\n",
       "      <td>26</td>\n",
       "      <td>4</td>\n",
       "      <td>14</td>\n",
       "    </tr>\n",
       "    <tr>\n",
       "      <th>30</th>\n",
       "      <td>0.956436</td>\n",
       "      <td>0.043564</td>\n",
       "      <td>0.222222</td>\n",
       "      <td>0.777778</td>\n",
       "      <td>483</td>\n",
       "      <td>22</td>\n",
       "      <td>4</td>\n",
       "      <td>14</td>\n",
       "    </tr>\n",
       "  </tbody>\n",
       "</table>\n",
       "</div>"
      ],
      "text/plain": [
       "                   True Positive Rate  False Negative Rate  \\\n",
       "Number of Samples                                            \n",
       "30                           0.954455             0.045545   \n",
       "30                           0.948515             0.051485   \n",
       "30                           0.956436             0.043564   \n",
       "\n",
       "                   False Positive Rate  True Negative Rate   tp  fn  fp  tn  \n",
       "Number of Samples                                                            \n",
       "30                            0.222222            0.777778  482  23   4  14  \n",
       "30                            0.222222            0.777778  479  26   4  14  \n",
       "30                            0.222222            0.777778  483  22   4  14  "
      ]
     },
     "metadata": {},
     "output_type": "display_data"
    }
   ],
   "source": [
    "for num_members, df in subsampled_dfs_per_model.items():\n",
    "    display(df.tail(3))"
   ]
  },
  {
   "cell_type": "code",
   "execution_count": 32,
   "metadata": {},
   "outputs": [
    {
     "name": "stdout",
     "output_type": "stream",
     "text": [
      "ViT-B-32\n"
     ]
    },
    {
     "data": {
      "image/png": "[encoded data removed]",
      "text/plain": [
       "<Figure size 432x288 with 1 Axes>"
      ]
     },
     "metadata": {
      "needs_background": "light"
     },
     "output_type": "display_data"
    },
    {
     "name": "stdout",
     "output_type": "stream",
     "text": [
      "ViT-B-16\n"
     ]
    },
    {
     "data": {
      "image/png": "[encoded data removed]",
      "text/plain": [
       "<Figure size 432x288 with 1 Axes>"
      ]
     },
     "metadata": {
      "needs_background": "light"
     },
     "output_type": "display_data"
    },
    {
     "name": "stdout",
     "output_type": "stream",
     "text": [
      "ViT-L-14\n"
     ]
    },
    {
     "data": {
      "image/png": "[encoded data removed]",
      "text/plain": [
       "<Figure size 432x288 with 1 Axes>"
      ]
     },
     "metadata": {
      "needs_background": "light"
     },
     "output_type": "display_data"
    }
   ],
   "source": [
    "for model_name, subsampled_dfs in subsampled_dfs_per_model.items():\n",
    "    plt.clf()\n",
    "    ax = sns.lineplot(data=subsampled_dfs[['True Positive Rate', 'False Negative Rate', 'False Positive Rate', 'True Negative Rate']], ci='sd')\n",
    "    plt.tight_layout()\n",
    "    ax.get_figure().savefig(f'./laion400m_experiments/plots/subsample_plot_LAION400M_{model_name}.pdf')\n",
    "    ax.get_figure().savefig(f'./laion400m_experiments/plots/subsample_plot_LAION400M_{model_name}.png', dpi=100)\n",
    "    print(model_name)\n",
    "    plt.show()"
   ]
  },
  {
   "cell_type": "code",
   "execution_count": 33,
   "metadata": {},
   "outputs": [
    {
     "name": "stdout",
     "output_type": "stream",
     "text": [
      "ViT-B-32\n"
     ]
    },
    {
     "data": {
      "image/png": "[encoded data removed]",
      "text/plain": [
       "<Figure size 432x288 with 1 Axes>"
      ]
     },
     "metadata": {
      "needs_background": "light"
     },
     "output_type": "display_data"
    },
    {
     "name": "stdout",
     "output_type": "stream",
     "text": [
      "ViT-B-16\n"
     ]
    },
    {
     "data": {
      "image/png": "[encoded data removed]",
      "text/plain": [
       "<Figure size 432x288 with 1 Axes>"
      ]
     },
     "metadata": {
      "needs_background": "light"
     },
     "output_type": "display_data"
    },
    {
     "name": "stdout",
     "output_type": "stream",
     "text": [
      "ViT-L-14\n"
     ]
    },
    {
     "data": {
      "image/png": "[encoded data removed]",
      "text/plain": [
       "<Figure size 432x288 with 1 Axes>"
      ]
     },
     "metadata": {
      "needs_background": "light"
     },
     "output_type": "display_data"
    }
   ],
   "source": [
    "for model_name, subsampled_dfs in subsampled_dfs_per_model.items():\n",
    "    tp_std, fn_std, fp_std, tn_std = subsampled_dfs.groupby('Number of Samples').std().iloc[-1][['tp', 'fn', 'fp', 'tn']]\n",
    "    tp, fn, fp, tn = subsampled_dfs.groupby('Number of Samples').mean().iloc[-1][['tp', 'fn', 'fp', 'tn']]\n",
    "\n",
    "    tpr_std, fnr_std, fpr_std, tnr_std = subsampled_dfs.groupby('Number of Samples').std().iloc[-1][['True Positive Rate', 'False Negative Rate', 'False Positive Rate', 'True Negative Rate']]\n",
    "    tpr, fnr, fpr, tnr = subsampled_dfs.groupby('Number of Samples').mean().iloc[-1][['True Positive Rate', 'False Negative Rate', 'False Positive Rate', 'True Negative Rate']]\n",
    "\n",
    "    normalized_conf_mat = pd.DataFrame({'member': [tpr, fpr], 'non_member': [fnr, tnr]}, index=['member', 'non_member'])\n",
    "    normalized_conf_mat.index.set_names('Actual Membership', inplace=True)\n",
    "    normalized_conf_mat = normalized_conf_mat.rename_axis('Predicted Membership', axis='columns')\n",
    "\n",
    "    group_names = ['TP','FN','FP','TN']\n",
    "    group_counts = [\"{0:0.0f} \\u00B1 {1:0.2f}\".format(mean, std) for mean, std in zip([tp, fn, fp, tn], [tp_std, fn_std, fp_std, tn_std])]\n",
    "    percentage = [\"{0:0.2f}% \\u00B1 {1:0.02f}%\".format(mean * 100, std * 100) for mean, std in zip([tpr, fnr, fpr, tnr], [tpr_std, fnr_std, fpr_std, tnr_std])]\n",
    "    labels = [f\"{v1}\\n{v2}\\n{v3}\" for v1, v2, v3 in zip(group_names, group_counts, percentage)]\n",
    "    plt.clf()\n",
    "    ax = sns.heatmap(normalized_conf_mat, annot=np.asarray(labels).reshape(2, 2), fmt='', cbar=False, cmap='Blues')\n",
    "    plt.tight_layout()\n",
    "    ax.get_figure().savefig(f'./laion400m_experiments/plots/confusion_matrix_LAION400M_{model_name}.pdf')\n",
    "    ax.get_figure().savefig(f'./laion400m_experiments/plots/confusion_matrix_LAION400M_{model_name}.png', dpi=100)\n",
    "    print(model_name)\n",
    "    plt.show()"
   ]
  },
  {
   "cell_type": "code",
   "execution_count": null,
   "metadata": {},
   "outputs": [],
   "source": []
  }
 ],
 "metadata": {
  "kernelspec": {
   "display_name": "Python 3.8.9 64-bit",
   "language": "python",
   "name": "python3"
  },
  "language_info": {
   "codemirror_mode": {
    "name": "ipython",
    "version": 3
   },
   "file_extension": ".py",
   "mimetype": "text/x-python",
   "name": "python",
   "nbconvert_exporter": "python",
   "pygments_lexer": "ipython3",
   "version": "3.8.9"
  },
  "orig_nbformat": 4,
  "vscode": {
   "interpreter": {
    "hash": "31f2aee4e71d21fbe5cf8b01ff0e069b9275f58929596ceb00d14d90e3e16cd6"
   }
  }
 },
 "nbformat": 4,
 "nbformat_minor": 2
}
