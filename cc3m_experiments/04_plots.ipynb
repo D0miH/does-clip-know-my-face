{
 "cells": [
  {
   "cell_type": "code",
   "execution_count": null,
   "metadata": {},
   "outputs": [],
   "source": [
    "import pandas as pd\n",
    "import seaborn as sns\n",
    "import os\n",
    "import matplotlib.pyplot as plt\n",
    "from matplotlib.ticker import FormatStrFormatter\n",
    "\n",
    "os.chdir('/workspace')\n",
    "sns.set_style('darkgrid')"
   ]
  },
  {
   "cell_type": "code",
   "execution_count": null,
   "metadata": {},
   "outputs": [],
   "source": [
    "model_names_list = [\n",
    "    'RN50', \n",
    "    'RN50x4', \n",
    "    'ViT-B-32'\n",
    "]\n",
    "num_members_list = ['top75', 'top50', 'top25', 'top10', 'top1']"
   ]
  },
  {
   "cell_type": "markdown",
   "metadata": {},
   "source": [
    "# Num Training Sample Plots"
   ]
  },
  {
   "cell_type": "code",
   "execution_count": null,
   "metadata": {},
   "outputs": [],
   "source": [
    "# load the sampled predictions\n",
    "subsampled_dfs_per_model = {}\n",
    "for model_name in model_names_list:\n",
    "    subsampled_dfs_per_num_members = {}\n",
    "    for num_members in num_members_list:\n",
    "        subsampled_dfs_per_num_members[num_members] = pd.read_csv(f'cc3m_experiments/prediction_dfs/sampled_predictions_CC2M_{model_name}_{num_members}.csv', index_col=0)\n",
    "    subsampled_dfs_per_model[model_name] = subsampled_dfs_per_num_members"
   ]
  },
  {
   "cell_type": "code",
   "execution_count": null,
   "metadata": {},
   "outputs": [],
   "source": [
    "rows_per_model = {}\n",
    "for model_name in model_names_list:\n",
    "    rows = []\n",
    "    for num_members in num_members_list:\n",
    "        df = subsampled_dfs_per_model[model_name][num_members]\n",
    "        df['Number of Training Samples per Person'] = int(num_members.replace(\"top\", \"\"))\n",
    "        df['Accuracy'] = (df['tp'] + df['tn']) / (df['tp'] + df['tn'] + df['fp'] + df['fn'])\n",
    "        # get the last group (30 attack samples) to calculate mean and std\n",
    "        rows.append(df.groupby('Number of Samples').get_group(df.groupby('Number of Samples').last().iloc[-1].name).set_index('Number of Training Samples per Person'))\n",
    "    rows_per_model[model_name] = pd.concat(rows).rename(columns={\n",
    "        'True Positive Rate': 'TPR', \n",
    "        'False Negative Rate': 'FNR', \n",
    "        'False Positive Rate': 'FPR', \n",
    "        'True Negative Rate': 'TNR',\n",
    "        'Accuracy': 'Acc'\n",
    "    })\n",
    "    display(rows_per_model[model_name].tail(3))"
   ]
  },
  {
   "cell_type": "code",
   "execution_count": null,
   "metadata": {},
   "outputs": [],
   "source": [
    "for model_name in model_names_list:\n",
    "    plt.clf()\n",
    "    display(rows_per_model[model_name][['TPR', 'FNR', 'FPR', 'TNR', 'Acc']].groupby('Number of Training Samples per Person').mean())\n",
    "    ax = sns.lineplot(data=rows_per_model[model_name][['TPR', 'FNR', 'FPR', 'TNR', 'Acc']], ci='sd')\n",
    "    ax.set_xticks([int(x.replace(\"top\", \"\")) for x in num_members_list][::-1])\n",
    "\n",
    "    ax.set_xlabel(\"Number of Training Samples per Entity\", weight=\"bold\", size=16)\n",
    "    ax.set_xticklabels(ax.get_xticks(), size=16)\n",
    "\n",
    "    # remove the legend from the other plots\n",
    "    if model_name != model_names_list[0]:\n",
    "        ax.legend_.remove()\n",
    "        ax.set(yticklabels=[\" \" for x in ax.get_yticklabels()], ylabel=\" \")\n",
    "        ax.set_yticklabels([x.get_text() for x in ax.get_yticklabels()], weight=\"bold\", size=16)\n",
    "    else:\n",
    "        h, l = ax.get_legend_handles_labels()\n",
    "        ax.set_yticklabels(ax.get_yticks(), size=16)\n",
    "        ax.legend(h, l, ncol=2, loc='lower center', fontsize=16)\n",
    "        ax.yaxis.set_major_formatter(FormatStrFormatter('%.2f'))\n",
    "    plt.tight_layout()\n",
    "    ax.get_figure().savefig(f'./cc3m_experiments/plots/num_training_samples_plot_CC2M_{model_name}.pdf')\n",
    "    ax.get_figure().savefig(f'./cc3m_experiments/plots/num_training_samples_plot_CC2M_{model_name}.png', dpi=100)\n",
    "    print(model_name)\n",
    "    plt.show()  "
   ]
  },
  {
   "cell_type": "markdown",
   "metadata": {},
   "source": [
    "# Heatmap"
   ]
  },
  {
   "cell_type": "code",
   "execution_count": null,
   "metadata": {},
   "outputs": [],
   "source": [
    "# load the sampled predictions\n",
    "prediction_dfs_per_model = {}\n",
    "for model_name in model_names_list:\n",
    "    prediction_dfs_per_num_members = {}\n",
    "    for num_members in num_members_list:\n",
    "        prediction_dfs_per_num_members[num_members] = pd.read_csv(f'cc3m_experiments/prediction_dfs/sampled_predictions_CC2M_{model_name}_{num_members}.csv', index_col=0)\n",
    "    prediction_dfs_per_model[model_name] = prediction_dfs_per_num_members"
   ]
  },
  {
   "cell_type": "code",
   "execution_count": null,
   "metadata": {},
   "outputs": [],
   "source": [
    "prediction_dfs_per_model['ViT-B-32']['top75']"
   ]
  },
  {
   "cell_type": "code",
   "execution_count": null,
   "metadata": {},
   "outputs": [],
   "source": [
    "combined_df_per_model = {}\n",
    "for model_name in model_names_list:\n",
    "    combined_df = []\n",
    "    for num_members, df in prediction_dfs_per_model[model_name].items():\n",
    "        new_df = df.groupby(\"Number of Samples\").mean()\n",
    "        new_df['Number of Samples'] = new_df.index\n",
    "        new_df['Number of Training Samples'] = int(num_members.replace(\"top\", \"\"))\n",
    "        combined_df.append(new_df)\n",
    "    combined_df_per_model[model_name] = pd.concat(combined_df)"
   ]
  },
  {
   "cell_type": "code",
   "execution_count": null,
   "metadata": {},
   "outputs": [],
   "source": [
    "for model_name in model_names_list:\n",
    "    df = combined_df_per_model[model_name]\n",
    "    display(df[(df['Number of Samples'] == 1) & (df['Number of Training Samples'] == 1)])"
   ]
  },
  {
   "cell_type": "code",
   "execution_count": null,
   "metadata": {},
   "outputs": [],
   "source": [
    "# fig, axes = plt.subplots(nrows=1, ncols=3, figsize=(13, 5), sharey=True)\n",
    "# cbar_ax = fig.add_axes([.9, 0.16, .015, .79])\n",
    "# for ax, (model_name, combined_df) in zip(axes.flat, combined_df_per_model.items()):\n",
    "#     pivoted_df = combined_df.pivot(\"Number of Samples\", \"Number of Training Samples\", 'True Positive Rate')\n",
    "#     sns_ax = sns.heatmap(pivoted_df, yticklabels=2, vmin=0, vmax=0.8, cmap=\"Blues\", cbar=model_name == model_names_list[-1], ax=ax, cbar_ax=cbar_ax)\n",
    "#     sns_ax.invert_yaxis()\n",
    "#     sns_ax.set_xlabel(\"Number of Training Samples\", weight=\"bold\")\n",
    "#     sns_ax.set_ylabel(\"Number of Attack Samples\", weight=\"bold\")\n",
    "#     if model_name != model_names_list[0]:\n",
    "#         sns_ax.set(ylabel=None)\n",
    "# fig.tight_layout(rect=[0, 0, .9, 1])\n",
    "# fig.savefig(f'./cc3m_experiments/plots/heatmap_num_training_samples_num_samples_CC2M_combined.pdf')\n",
    "# fig.savefig(f'./cc3m_experiments/plots/heatmap_num_training_samples_num_samples_CC2M_combined.png', dpi=100)"
   ]
  },
  {
   "cell_type": "code",
   "execution_count": null,
   "metadata": {},
   "outputs": [],
   "source": [
    "for model_name, combined_df in combined_df_per_model.items():\n",
    "    pivoted_df = combined_df.pivot(\"Number of Samples\", \"Number of Training Samples\", \"True Positive Rate\")\n",
    "    plt.figure(figsize=(5, 5))\n",
    "    if model_name == model_names_list[-1]:\n",
    "        plt.figure(figsize=(6.2, 5))\n",
    "    ax = sns.heatmap(pivoted_df, yticklabels=2, vmin=0, vmax=0.8, cmap=\"Blues\", cbar=model_name == model_names_list[-1])\n",
    "    if model_name == model_names_list[-1]:\n",
    "        ax.figure.axes[-1].set_ylabel('TPR', weight='bold', size=16)\n",
    "        ax.collections[0].colorbar.ax.tick_params(labelsize=16)\n",
    "    ax.set_xlabel(\"Number of Training Samples\", weight=\"bold\", size=16)\n",
    "    ax.set_ylabel(\"Number of Attack Samples\", weight=\"bold\", size=16)\n",
    "    ax.set_yticklabels([x.get_text() for x in ax.get_yticklabels()], weight=\"bold\", size=16)\n",
    "    ax.set_xticklabels([x.get_text() for x in ax.get_xticklabels()], weight=\"bold\", size=16)\n",
    "    ax.invert_yaxis()\n",
    "    if model_name != model_names_list[0]:\n",
    "        ax.set(yticklabels=[\" \" for x in ax.get_yticklabels()], ylabel=\" \")\n",
    "    plt.tight_layout()\n",
    "    ax.get_figure().savefig(f'./cc3m_experiments/plots/heatmap_num_training_samples_num_samples_CC2M_{model_name}.pdf')\n",
    "    ax.get_figure().savefig(f'./cc3m_experiments/plots/heatmap_num_training_samples_num_samples_CC2M_{model_name}.png', dpi=100)\n",
    "    print(model_name, \"TPR\")\n",
    "    plt.show()  "
   ]
  },
  {
   "cell_type": "code",
   "execution_count": null,
   "metadata": {},
   "outputs": [],
   "source": [
    "\n"
   ]
  }
 ],
 "metadata": {
  "kernelspec": {
   "display_name": "Python 3.8.13 ('base')",
   "language": "python",
   "name": "python3"
  },
  "language_info": {
   "codemirror_mode": {
    "name": "ipython",
    "version": 3
   },
   "file_extension": ".py",
   "mimetype": "text/x-python",
   "name": "python",
   "nbconvert_exporter": "python",
   "pygments_lexer": "ipython3",
   "version": "3.8.13"
  },
  "orig_nbformat": 4,
  "vscode": {
   "interpreter": {
    "hash": "d4d1e4263499bec80672ea0156c357c1ee493ec2b1c70f0acce89fc37c4a6abe"
   }
  }
 },
 "nbformat": 4,
 "nbformat_minor": 2
}
